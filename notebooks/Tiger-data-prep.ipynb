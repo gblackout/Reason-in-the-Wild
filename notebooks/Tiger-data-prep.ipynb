{
 "cells": [
  {
   "cell_type": "code",
   "execution_count": 9,
   "id": "77e92e48-0fa4-4091-8603-6ed44453a1b3",
   "metadata": {},
   "outputs": [],
   "source": [
    "import sys\n",
    "sys.path.append('../')\n",
    "from utils.notebook_imports import *\n",
    "from tactic_and_execution.thought_action_observation_data_structure import *\n",
    "from tactic_and_execution.traj_utils import *\n",
    "from collections import Counter\n",
    "from traj_runner import TrajRunner"
   ]
  },
  {
   "cell_type": "code",
   "execution_count": 11,
   "id": "b3e730b7-5541-4992-9bf1-0843e63a22ac",
   "metadata": {},
   "outputs": [],
   "source": [
    "runner = TrajRunner('../data/tactics')"
   ]
  },
  {
   "cell_type": "markdown",
   "id": "f0d93dcb-6202-4b5f-a092-f341964977aa",
   "metadata": {},
   "source": [
    "# In this notebook, we show how to make trainable seqs for fine-tuning different versions of Tiger-8B "
   ]
  },
  {
   "cell_type": "markdown",
   "id": "1ff81efe-c609-41ec-83b1-a673bb30c5f3",
   "metadata": {},
   "source": [
    "## first load the data"
   ]
  },
  {
   "cell_type": "code",
   "execution_count": 4,
   "id": "07f64327-cb42-4721-abe2-f78aa88f4a03",
   "metadata": {},
   "outputs": [],
   "source": [
    "# download the json files from HF repo if you haven't\n",
    "strain = jload('../data/standalone_train.json')\n",
    "htrain = jload('../data/hybrid_train.json')"
   ]
  },
  {
   "cell_type": "markdown",
   "id": "088ecefe-2f34-4f30-b8c1-79cff8f217f9",
   "metadata": {},
   "source": [
    "## the key function we use is `make_perfect_traj` which makes the perfect traj from the raw `sample['gt_traj']` and also return the inds of those exps that are correct in the raw traj so that we can make mask out those incorrect ones for imperfect traj training"
   ]
  },
  {
   "cell_type": "markdown",
   "id": "db030122-1995-4ab2-83ec-fc7a5632f9f5",
   "metadata": {},
   "source": [
    "### to visualize the process let's sample a subset"
   ]
  },
  {
   "cell_type": "code",
   "execution_count": 7,
   "id": "a8465a52-3792-47f3-9003-09a1cfe637d6",
   "metadata": {},
   "outputs": [
    {
     "name": "stdout",
     "output_type": "stream",
     "text": [
      "[('Plan', 'exec ok'), ('Write program', 'exec wrong'), ('Revise code', 'exec ok'), ('Aggregate and answer', 'exec wrong'), ('Aggregate and answer', 'exec solved')]\n",
      "[('Plan', 'exec ok'), ('Build FOL model', 'exec wrong'), ('Revise code', 'exec wrong'), ('Revise code', 'exec ok'), ('Aggregate and answer', 'exec solved')]\n",
      "[('Plan', 'exec ok'), ('Build graph model', 'exec ok'), ('Aggregate and answer', 'exec solved')]\n",
      "[('Build math model', 'exec ok'), ('Aggregate and answer', 'exec wrong'), ('Aggregate and answer', 'exec solved')]\n",
      "[('Plan', 'exec ok'), ('Write program', 'exec wrong'), ('Revise code', 'exec ok'), ('Reason', 'exec ok'), ('Aggregate and answer', 'exec wrong'), ('Aggregate and answer', 'exec wrong'), ('Aggregate and answer', 'exec solved')]\n",
      "[('Plan', 'exec ok'), ('Build graph model', 'exec ok'), ('Revise code', 'exec ok'), ('Aggregate and answer', 'exec solved')]\n",
      "[('Plan', 'exec ok'), ('Build FOL model', 'exec ok'), ('Revise code', 'exec ok'), ('Aggregate and answer', 'exec wrong'), ('Aggregate and answer', 'exec solved')]\n",
      "[('Plan', 'exec ok'), ('Build math model', 'exec ok'), ('Aggregate and answer', 'exec wrong'), ('Aggregate and answer', 'exec solved')]\n",
      "[('Plan', 'exec ok'), ('Build math model', 'exec ok'), ('Aggregate and answer', 'exec wrong'), (None, 'exec wrong'), ('Aggregate and answer', 'exec solved')]\n",
      "[('Build math model', 'exec ok'), ('Aggregate and answer', 'exec wrong'), ('Aggregate and answer', 'exec solved')]\n"
     ]
    }
   ],
   "source": [
    "subset = list(np.random.choice(strain, 10, replace=False))\n",
    "# visualize the traj status\n",
    "for e in subset:\n",
    "    print(Trajectory.from_json(e['gt_traj']).show_traj_status())"
   ]
  },
  {
   "cell_type": "markdown",
   "id": "0bcc24ac-45d5-4e32-a977-3f4f6166bc0a",
   "metadata": {},
   "source": [
    "## you see some of the above trajs while solving the problem at the end, make mistakes in the middle, and we proposed two way handling it:\n",
    "- PJ: we make a prefect traj out of the raw ones by replacing the content (action) of the bad ones with the later good ones\n",
    "- IPJ: we keep the same traj but mask out the seq labels of the bad ones "
   ]
  },
  {
   "cell_type": "markdown",
   "id": "3cfab55e-4238-48aa-8190-805bf2ff9c6d",
   "metadata": {},
   "source": [
    "## to do so we use function `make_perfect_traj`"
   ]
  },
  {
   "cell_type": "code",
   "execution_count": 17,
   "id": "537396f4-14e1-4adf-8428-a9f6cd529bcc",
   "metadata": {},
   "outputs": [
    {
     "data": {
      "application/vnd.jupyter.widget-view+json": {
       "model_id": "c0e21af42cd7495fb0f707425696529e",
       "version_major": 2,
       "version_minor": 0
      },
      "text/plain": [
       "  0%|          | 0/4303 [00:00<?, ?it/s]"
      ]
     },
     "metadata": {},
     "output_type": "display_data"
    }
   ],
   "source": [
    "for ind, e in enumerate(nbtqdm(strain)):\n",
    "    pj, trainable_inds, log_ls = make_perfect_traj(e, 'gt_traj', runner)\n",
    "    if pj is None:\n",
    "        continue\n",
    "    e['pj'] = pj\n",
    "    e['trainable_inds'] = trainable_inds\n",
    "    e['log_ls'] = log_ls"
   ]
  },
  {
   "cell_type": "markdown",
   "id": "2ce40a6e-761d-44a1-9a8b-cc5544698638",
   "metadata": {},
   "source": [
    "## now let's look at the newly created perfect trajs"
   ]
  },
  {
   "cell_type": "code",
   "execution_count": 19,
   "id": "f511c1fe-61ed-4da9-9357-ff3caffa4444",
   "metadata": {},
   "outputs": [
    {
     "name": "stdout",
     "output_type": "stream",
     "text": [
      "[(0, 'Plan', 'exec ok'), ('1/2', 'Write program/Revise code', 'exec wrong/exec ok'), ('3/4', 'Aggregate and answer/Aggregate and answer', 'exec wrong/exec solved')]\n",
      "[(0, 'Plan', 'exec ok'), ('1/3', 'Build FOL model/Revise code', 'exec wrong/exec ok'), (4, 'Aggregate and answer', 'exec solved')]\n",
      "[(0, 'Plan', 'exec ok'), (1, 'Build graph model', 'exec ok'), (2, 'Aggregate and answer', 'exec solved')]\n",
      "[(0, 'Build math model', 'exec ok'), ('1/2', 'Aggregate and answer/Aggregate and answer', 'exec wrong/exec solved')]\n",
      "[(0, 'Plan', 'exec ok'), ('1/2', 'Write program/Revise code', 'exec wrong/exec ok'), (3, 'Reason', 'exec ok'), ('4/6', 'Aggregate and answer/Aggregate and answer', 'exec wrong/exec solved')]\n",
      "[(0, 'Plan', 'exec ok'), ('1/2', 'Build graph model/Revise code', 'exec ok/exec ok'), (3, 'Aggregate and answer', 'exec solved')]\n",
      "[(0, 'Plan', 'exec ok'), ('1/2', 'Build FOL model/Revise code', 'exec ok/exec ok'), ('3/4', 'Aggregate and answer/Aggregate and answer', 'exec wrong/exec solved')]\n",
      "[(0, 'Plan', 'exec ok'), (1, 'Build math model', 'exec ok'), ('2/3', 'Aggregate and answer/Aggregate and answer', 'exec wrong/exec solved')]\n",
      "[(0, 'Plan', 'exec ok'), (1, 'Build math model', 'exec ok'), ('2/4', 'Aggregate and answer/Aggregate and answer', 'exec wrong/exec solved')]\n",
      "[(0, 'Build math model', 'exec ok'), ('1/2', 'Aggregate and answer/Aggregate and answer', 'exec wrong/exec solved')]\n"
     ]
    }
   ],
   "source": [
    "for e in subset:\n",
    "    print(e['log_ls'])"
   ]
  },
  {
   "cell_type": "markdown",
   "id": "c9307052-c609-41ed-8457-b3ce73b95bea",
   "metadata": {},
   "source": [
    "## you see some of the exps are merged"
   ]
  },
  {
   "cell_type": "markdown",
   "id": "b3998766-69cf-4662-b429-7030ef5d60f1",
   "metadata": {},
   "source": [
    "## now we can make the training seq using `traj2seq_simple`"
   ]
  },
  {
   "cell_type": "code",
   "execution_count": 20,
   "id": "56248317-c132-4d32-abf6-63ef16dfe9b1",
   "metadata": {},
   "outputs": [],
   "source": [
    "pj_data, ipj_data, rpj_data = [], [], []\n",
    "\n",
    "for sample in strain:\n",
    "    if 'pj' not in sample:\n",
    "        continue\n",
    "        \n",
    "    pj_data.append({\n",
    "        'input': sample['input'],\n",
    "        'label': sample['label'],\n",
    "        'src': sample['src'],\n",
    "        'dataset': sample['dataset'],\n",
    "        'orig_data': sample['orig_data'],\n",
    "        'traj': traj2seq_simple(\n",
    "            sample['pj'], \n",
    "            no_exp_ok=False, \n",
    "            # there are lines starting with keyword \"HINTS\" that have contents injected during data generation to guide the generation\n",
    "            # here, we need to remove those lines since the model should not learn to predict these\n",
    "            remove_hints=True, \n",
    "            add_resp_head=False, \n",
    "            trainable_inds=None\n",
    "        )\n",
    "    })\n",
    "    \n",
    "    ipj_data.append({\n",
    "        'input': sample['input'],\n",
    "        'label': sample['label'],\n",
    "        'src': sample['src'],\n",
    "        'dataset': sample['dataset'],\n",
    "        'orig_data': sample['orig_data'],\n",
    "        'traj': traj2seq_simple(\n",
    "            Trajectory.from_json(sample['gt_traj']), \n",
    "            no_exp_ok=False, \n",
    "            remove_hints=True, \n",
    "            add_resp_head=False,\n",
    "            # recall the trainable_inds we get by calling make_prefect_traj, this is where we use it to mask out the incorrect ones to\n",
    "            # make imperfect traj trainable\n",
    "            trainable_inds=sample['trainable_inds']\n",
    "        )\n",
    "    })\n",
    "\n",
    "# also gather the trainable seqs of the routing trajs\n",
    "for sample in htrain:\n",
    "    rpj_data.append({\n",
    "        'input': sample['input'],\n",
    "        'label': sample['label'],\n",
    "        'src': sample['src'],\n",
    "        'dataset': sample['dataset'],\n",
    "        'traj': traj2seq_simple(\n",
    "            Trajectory.from_json(sample['hyb_syn_traj']), \n",
    "            no_exp_ok=False, \n",
    "            remove_hints=True, \n",
    "            add_resp_head=False, \n",
    "            trainable_inds=None,\n",
    "            obs_trainable=False\n",
    "        )\n",
    "    })"
   ]
  },
  {
   "cell_type": "code",
   "execution_count": 21,
   "id": "1c7d43c2-0bb0-48ef-9f71-ca5d1c1ac796",
   "metadata": {},
   "outputs": [
    {
     "name": "stdout",
     "output_type": "stream",
     "text": [
      "4294 4294 987\n"
     ]
    }
   ],
   "source": [
    "print(len(pj_data), len(ipj_data), len(rpj_data))"
   ]
  },
  {
   "cell_type": "code",
   "execution_count": 22,
   "id": "f2c1bd17-4a21-4a12-870c-bb15e4b54324",
   "metadata": {},
   "outputs": [],
   "source": [
    "# save the data for PJ training\n",
    "jdump(pj_data, '../data/pj_data.json')\n",
    "# for IPJ training we use PJ+IPJ data\n",
    "jdump(pj_data+ipj_data, '../data/ipj_data.json')\n",
    "# for router training we use PJ+RPJ data\n",
    "jdump(pj_data+rpj_data, '../data/rpj_data.json')"
   ]
  },
  {
   "cell_type": "code",
   "execution_count": null,
   "id": "443741e5-ab2e-4a11-b437-93787ad33414",
   "metadata": {},
   "outputs": [],
   "source": []
  }
 ],
 "metadata": {
  "kernelspec": {
   "display_name": "Python 3 (ipykernel)",
   "language": "python",
   "name": "python3"
  },
  "language_info": {
   "codemirror_mode": {
    "name": "ipython",
    "version": 3
   },
   "file_extension": ".py",
   "mimetype": "text/x-python",
   "name": "python",
   "nbconvert_exporter": "python",
   "pygments_lexer": "ipython3",
   "version": "3.9.12"
  }
 },
 "nbformat": 4,
 "nbformat_minor": 5
}
